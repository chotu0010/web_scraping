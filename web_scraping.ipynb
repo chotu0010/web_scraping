{
 "cells": [
  {
   "cell_type": "code",
   "execution_count": 5,
   "id": "5b0030b0-025c-43d6-a3eb-f1ffc7f659b5",
   "metadata": {
    "collapsed": true,
    "jupyter": {
     "outputs_hidden": true
    },
    "scrolled": true
   },
   "outputs": [
    {
     "name": "stdout",
     "output_type": "stream",
     "text": [
      "Requirement already satisfied: requests in /home/aditya/web_scraping_env/lib/python3.12/site-packages (2.32.3)\n",
      "Requirement already satisfied: charset-normalizer<4,>=2 in /home/aditya/web_scraping_env/lib/python3.12/site-packages (from requests) (3.4.0)\n",
      "Requirement already satisfied: idna<4,>=2.5 in /home/aditya/web_scraping_env/lib/python3.12/site-packages (from requests) (3.10)\n",
      "Requirement already satisfied: urllib3<3,>=1.21.1 in /home/aditya/web_scraping_env/lib/python3.12/site-packages (from requests) (2.2.3)\n",
      "Requirement already satisfied: certifi>=2017.4.17 in /home/aditya/web_scraping_env/lib/python3.12/site-packages (from requests) (2024.8.30)\n",
      "Requirement already satisfied: beautifulsoup4 in /home/aditya/web_scraping_env/lib/python3.12/site-packages (4.12.3)\n",
      "Requirement already satisfied: soupsieve>1.2 in /home/aditya/web_scraping_env/lib/python3.12/site-packages (from beautifulsoup4) (2.6)\n"
     ]
    }
   ],
   "source": [
    "!pip install requests\n"
   ]
  },
  {
   "cell_type": "code",
   "execution_count": 7,
   "id": "b802e753-d1b4-4f97-b818-d1b858037dcd",
   "metadata": {
    "collapsed": true,
    "jupyter": {
     "outputs_hidden": true
    }
   },
   "outputs": [
    {
     "name": "stdout",
     "output_type": "stream",
     "text": [
      "Requirement already satisfied: beautifulsoup4 in /home/aditya/web_scraping_env/lib/python3.12/site-packages (4.12.3)\n",
      "Requirement already satisfied: soupsieve>1.2 in /home/aditya/web_scraping_env/lib/python3.12/site-packages (from beautifulsoup4) (2.6)\n"
     ]
    }
   ],
   "source": [
    "!pip install beautifulsoup4"
   ]
  },
  {
   "cell_type": "code",
   "execution_count": 8,
   "id": "15b23adb-d085-4125-948c-284c4cdba4f4",
   "metadata": {
    "collapsed": true,
    "jupyter": {
     "outputs_hidden": true
    }
   },
   "outputs": [
    {
     "name": "stdout",
     "output_type": "stream",
     "text": [
      "Requirement already satisfied: requests in /home/aditya/web_scraping_env/lib/python3.12/site-packages (2.32.3)\n",
      "Requirement already satisfied: charset-normalizer<4,>=2 in /home/aditya/web_scraping_env/lib/python3.12/site-packages (from requests) (3.4.0)\n",
      "Requirement already satisfied: idna<4,>=2.5 in /home/aditya/web_scraping_env/lib/python3.12/site-packages (from requests) (3.10)\n",
      "Requirement already satisfied: urllib3<3,>=1.21.1 in /home/aditya/web_scraping_env/lib/python3.12/site-packages (from requests) (2.2.3)\n",
      "Requirement already satisfied: certifi>=2017.4.17 in /home/aditya/web_scraping_env/lib/python3.12/site-packages (from requests) (2024.8.30)\n"
     ]
    }
   ],
   "source": [
    "!pip install requests\n"
   ]
  },
  {
   "cell_type": "code",
   "execution_count": 29,
   "id": "86144f12-ff05-4191-9bab-479b30138f92",
   "metadata": {
    "collapsed": true,
    "jupyter": {
     "outputs_hidden": true
    }
   },
   "outputs": [
    {
     "name": "stdout",
     "output_type": "stream",
     "text": [
      "Requirement already satisfied: pandas in /home/aditya/web_scraping_env/lib/python3.12/site-packages (2.2.3)\n",
      "Requirement already satisfied: numpy>=1.26.0 in /home/aditya/web_scraping_env/lib/python3.12/site-packages (from pandas) (2.1.3)\n",
      "Requirement already satisfied: python-dateutil>=2.8.2 in /home/aditya/web_scraping_env/lib/python3.12/site-packages (from pandas) (2.9.0.post0)\n",
      "Requirement already satisfied: pytz>=2020.1 in /home/aditya/web_scraping_env/lib/python3.12/site-packages (from pandas) (2024.2)\n",
      "Requirement already satisfied: tzdata>=2022.7 in /home/aditya/web_scraping_env/lib/python3.12/site-packages (from pandas) (2024.2)\n",
      "Requirement already satisfied: six>=1.5 in /home/aditya/web_scraping_env/lib/python3.12/site-packages (from python-dateutil>=2.8.2->pandas) (1.16.0)\n"
     ]
    }
   ],
   "source": [
    "!pip install pandas"
   ]
  },
  {
   "cell_type": "code",
   "execution_count": 9,
   "id": "0aa561d6-1d4e-4fb0-983b-03055907ca4a",
   "metadata": {},
   "outputs": [],
   "source": [
    "import requests\n",
    "from bs4 import BeautifulSoup\n",
    "import pandas as pd"
   ]
  },
  {
   "cell_type": "code",
   "execution_count": 40,
   "id": "bda3b43e-0b41-4d0d-9349-41ae016fd8bd",
   "metadata": {},
   "outputs": [],
   "source": [
    "url='https://en.wikipedia.org/wiki/Tesla,_Inc.'\n",
    "download_html=requests.get(url)\n",
    "\n",
    "soup=BeautifulSoup(download_html.text,'html.parser')\n",
    "\n",
    "with open('download_html','w',encoding='utf-8') as file:\n",
    "    file.write(soup.prettify())\n",
    "    "
   ]
  },
  {
   "cell_type": "code",
   "execution_count": 41,
   "id": "97b915d5-c4db-4bf6-af38-cf658c992089",
   "metadata": {},
   "outputs": [
    {
     "name": "stdout",
     "output_type": "stream",
     "text": [
      "<tbody><tr>\n",
      "<th>Opened\n",
      "</th>\n",
      "<th>Name\n",
      "</th>\n",
      "<th>City\n",
      "</th>\n",
      "<th>Country\n",
      "</th>\n",
      "<th>Employees\n",
      "</th>\n",
      "<th>Products\n",
      "</th>\n",
      "<th class=\"unsortable\"><abbr title=\"Reference(s)\">Ref.</abbr>\n",
      "</th></tr>\n",
      "<tr>\n",
      "<td>2010\n",
      "</td>\n",
      "<td><a href=\"/wiki/Tesla_Fremont_Factory\" title=\"Tesla Fremont Factory\">Tesla Fremont Factory</a>\n",
      "</td>\n",
      "<td><a href=\"/wiki/Fremont,_California\" title=\"Fremont, California\">Fremont, California</a>\n",
      "</td>\n",
      "<td>United States\n",
      "</td>\n",
      "<td>22,000\n",
      "</td>\n",
      "<td><a href=\"/wiki/Tesla_Model_S\" title=\"Tesla Model S\">Model S</a>, <a href=\"/wiki/Tesla_Model_X\" title=\"Tesla Model X\">Model X</a>, <a href=\"/wiki/Tesla_Model_3\" title=\"Tesla Model 3\">Model 3</a>, <a href=\"/wiki/Tesla_Model_Y\" title=\"Tesla Model Y\">Model Y</a>\n",
      "</td>\n",
      "<td><sup class=\"reference\" id=\"cite_ref-Future_33-1\"><a href=\"#cite_note-Future-33\"><span class=\"cite-bracket\">[</span>32<span class=\"cite-bracket\">]</span></a></sup><sup class=\"reference\" id=\"cite_ref-TC_staff_2020_206-0\"><a href=\"#cite_note-TC_staff_2020-206\"><span class=\"cite-bracket\">[</span>205<span class=\"cite-bracket\">]</span></a></sup><sup class=\"reference\" id=\"cite_ref-207\"><a href=\"#cite_note-207\"><span class=\"cite-bracket\">[</span>206<span class=\"cite-bracket\">]</span></a></sup>\n",
      "</td></tr>\n",
      "<tr>\n",
      "<td>2016\n",
      "</td>\n",
      "<td><a href=\"/wiki/Gigafactory_Nevada\" title=\"Gigafactory Nevada\">Gigafactory Nevada</a>\n",
      "</td>\n",
      "<td><a href=\"/wiki/Storey_County,_Nevada\" title=\"Storey County, Nevada\">Storey County, Nevada</a>\n",
      "</td>\n",
      "<td>United States\n",
      "</td>\n",
      "<td>7,000\n",
      "</td>\n",
      "<td>Batteries, <a href=\"/wiki/Tesla_Powerwall\" title=\"Tesla Powerwall\">Powerwall</a>, <a href=\"/wiki/Tesla_Semi\" title=\"Tesla Semi\">Semi</a>\n",
      "</td>\n",
      "<td><sup class=\"reference\" id=\"cite_ref-Powerwall_208-0\"><a href=\"#cite_note-Powerwall-208\"><span class=\"cite-bracket\">[</span>207<span class=\"cite-bracket\">]</span></a></sup><sup class=\"reference\" id=\"cite_ref-usatoday_giganevada_2019_209-0\"><a href=\"#cite_note-usatoday_giganevada_2019-209\"><span class=\"cite-bracket\">[</span>208<span class=\"cite-bracket\">]</span></a></sup><sup class=\"reference\" id=\"cite_ref-210\"><a href=\"#cite_note-210\"><span class=\"cite-bracket\">[</span>209<span class=\"cite-bracket\">]</span></a></sup>\n",
      "</td></tr>\n",
      "<tr>\n",
      "<td>2017\n",
      "</td>\n",
      "<td><a href=\"/wiki/Gigafactory_New_York\" title=\"Gigafactory New York\">Gigafactory New York</a>\n",
      "</td>\n",
      "<td><a href=\"/wiki/Buffalo,_New_York\" title=\"Buffalo, New York\">Buffalo, New York</a>\n",
      "</td>\n",
      "<td>United States\n",
      "</td>\n",
      "<td>1,500\n",
      "</td>\n",
      "<td><a class=\"mw-redirect\" href=\"/wiki/Tesla_Solar_Roof\" title=\"Tesla Solar Roof\">Solar Roof</a>, <a href=\"/wiki/Tesla_Supercharger\" title=\"Tesla Supercharger\">Supercharger</a>\n",
      "</td>\n",
      "<td><sup class=\"reference\" id=\"cite_ref-UpAndRunning_211-0\"><a href=\"#cite_note-UpAndRunning-211\"><span class=\"cite-bracket\">[</span>210<span class=\"cite-bracket\">]</span></a></sup><sup class=\"reference\" id=\"cite_ref-CT_giga2_2020_212-0\"><a href=\"#cite_note-CT_giga2_2020-212\"><span class=\"cite-bracket\">[</span>211<span class=\"cite-bracket\">]</span></a></sup>\n",
      "</td></tr>\n",
      "<tr>\n",
      "<td>2019\n",
      "</td>\n",
      "<td><a href=\"/wiki/Gigafactory_Shanghai\" title=\"Gigafactory Shanghai\">Gigafactory Shanghai</a>\n",
      "</td>\n",
      "<td><a href=\"/wiki/Shanghai\" title=\"Shanghai\">Shanghai</a>\n",
      "</td>\n",
      "<td>China\n",
      "</td>\n",
      "<td>20,000\n",
      "</td>\n",
      "<td>Model 3, Model Y, Supercharger\n",
      "</td>\n",
      "<td><sup class=\"reference\" id=\"cite_ref-cnbc20191023_213-0\"><a href=\"#cite_note-cnbc20191023-213\"><span class=\"cite-bracket\">[</span>212<span class=\"cite-bracket\">]</span></a></sup><sup class=\"reference\" id=\"cite_ref-214\"><a href=\"#cite_note-214\"><span class=\"cite-bracket\">[</span>213<span class=\"cite-bracket\">]</span></a></sup>\n",
      "</td></tr>\n",
      "<tr>\n",
      "<td>2022\n",
      "</td>\n",
      "<td><a href=\"/wiki/Gigafactory_Berlin-Brandenburg\" title=\"Gigafactory Berlin-Brandenburg\">Gigafactory Berlin-Brandenburg</a>\n",
      "</td>\n",
      "<td><a href=\"/wiki/Gr%C3%BCnheide_(Mark)\" title=\"Grünheide (Mark)\">Grünheide</a>\n",
      "</td>\n",
      "<td>Germany\n",
      "</td>\n",
      "<td>10,000\n",
      "</td>\n",
      "<td>Model Y\n",
      "</td>\n",
      "<td><sup class=\"reference\" id=\"cite_ref-215\"><a href=\"#cite_note-215\"><span class=\"cite-bracket\">[</span>214<span class=\"cite-bracket\">]</span></a></sup><sup class=\"reference\" id=\"cite_ref-216\"><a href=\"#cite_note-216\"><span class=\"cite-bracket\">[</span>215<span class=\"cite-bracket\">]</span></a></sup><sup class=\"reference\" id=\"cite_ref-IEVS_berlin_2021_217-0\"><a href=\"#cite_note-IEVS_berlin_2021-217\"><span class=\"cite-bracket\">[</span>216<span class=\"cite-bracket\">]</span></a></sup>\n",
      "</td></tr>\n",
      "<tr>\n",
      "<td>2022\n",
      "</td>\n",
      "<td><a href=\"/wiki/Gigafactory_Texas\" title=\"Gigafactory Texas\">Gigafactory Texas</a>\n",
      "</td>\n",
      "<td><a href=\"/wiki/Austin,_Texas\" title=\"Austin, Texas\">Austin, Texas</a>\n",
      "</td>\n",
      "<td>United States\n",
      "</td>\n",
      "<td>12,000\n",
      "</td>\n",
      "<td>Model Y, <a href=\"/wiki/Tesla_Cybertruck\" title=\"Tesla Cybertruck\">Cybertruck</a>\n",
      "</td>\n",
      "<td><sup class=\"reference\" id=\"cite_ref-218\"><a href=\"#cite_note-218\"><span class=\"cite-bracket\">[</span>217<span class=\"cite-bracket\">]</span></a></sup><sup class=\"reference\" id=\"cite_ref-Vorrath_219-0\"><a href=\"#cite_note-Vorrath-219\"><span class=\"cite-bracket\">[</span>218<span class=\"cite-bracket\">]</span></a></sup><sup class=\"reference\" id=\"cite_ref-220\"><a href=\"#cite_note-220\"><span class=\"cite-bracket\">[</span>219<span class=\"cite-bracket\">]</span></a></sup>\n",
      "</td></tr></tbody>\n"
     ]
    }
   ],
   "source": [
    "full_details=soup.select('table.wikitable tbody')[0]\n",
    "print(full_details)"
   ]
  },
  {
   "cell_type": "code",
   "execution_count": 42,
   "id": "afe4a790-b3f0-4136-afd0-e8c7de6d8099",
   "metadata": {},
   "outputs": [
    {
     "name": "stdout",
     "output_type": "stream",
     "text": [
      "-----------\n",
      "Opened\n",
      "\n",
      "Name\n",
      "\n",
      "City\n",
      "\n",
      "Country\n",
      "\n",
      "Employees\n",
      "\n",
      "Products\n",
      "\n",
      "Ref.\n",
      "\n"
     ]
    }
   ],
   "source": [
    "# Extract the table column headings\n",
    "# End result: A list with all the column headings\n",
    "\n",
    "table_head = full_details.select('tr th')\n",
    "\n",
    "print('-----------')\n",
    "for element in table_head:\n",
    "    print(element.text)"
   ]
  },
  {
   "cell_type": "code",
   "execution_count": 43,
   "id": "ac423e05-8149-4a17-a208-3d5b100c715f",
   "metadata": {},
   "outputs": [
    {
     "name": "stdout",
     "output_type": "stream",
     "text": [
      "Opened\n",
      "Name\n",
      "City\n",
      "Country\n",
      "Employees\n",
      "Products\n",
      "Ref.\n",
      "-----------\n",
      "['Opened', 'Name', 'City', 'Country', 'Employees', 'Products', 'Ref.']\n"
     ]
    }
   ],
   "source": [
    "# Extract the table column headings\n",
    "# End result: A list with all the column headings\n",
    "\n",
    "\n",
    "table_head = full_details.select('tr th')\n",
    "\n",
    "table_columns = []\n",
    "for element in table_head:\n",
    "    column_label = element.get_text(separator=\" \", strip=True)\n",
    "    table_columns.append(column_label)\n",
    "    print(column_label)\n",
    "\n",
    "print('-----------')\n",
    "print(table_columns)"
   ]
  },
  {
   "cell_type": "code",
   "execution_count": 44,
   "id": "7701519a-833f-49e9-a10c-d3d2b455a2fc",
   "metadata": {},
   "outputs": [
    {
     "name": "stdout",
     "output_type": "stream",
     "text": [
      "['Opened', 'Name', 'City', 'Country', 'Employees', 'Products', 'Ref.']\n"
     ]
    }
   ],
   "source": [
    "# Extract the table column headings\n",
    "# >> Iteration 3\n",
    "\n",
    "table_columns = []\n",
    "for element in table_head:\n",
    "    column_label = element.get_text(separator=\" \", strip=True)\n",
    "    column_label = column_label.replace(' ', '_')\n",
    "    table_columns.append(column_label)\n",
    "print(table_columns)"
   ]
  },
  {
   "cell_type": "code",
   "execution_count": 45,
   "id": "454671ac-5545-482a-9878-62274fd98552",
   "metadata": {
    "scrolled": true
   },
   "outputs": [],
   "source": []
  },
  {
   "cell_type": "code",
   "execution_count": 25,
   "id": "a5580749-28d2-41bb-9937-24e9a4a2e246",
   "metadata": {},
   "outputs": [
    {
     "name": "stdout",
     "output_type": "stream",
     "text": [
      "[<tr>\n",
      "<th>Opened\n",
      "</th>\n",
      "<th>Name\n",
      "</th>\n",
      "<th>City\n",
      "</th>\n",
      "<th>Country\n",
      "</th>\n",
      "<th>Employees\n",
      "</th>\n",
      "<th>Products\n",
      "</th>\n",
      "<th class=\"unsortable\"><abbr title=\"Reference(s)\">Ref.</abbr>\n",
      "</th></tr>, <tr>\n",
      "<td>2010\n",
      "</td>\n",
      "<td><a href=\"/wiki/Tesla_Fremont_Factory\" title=\"Tesla Fremont Factory\">Tesla Fremont Factory</a>\n",
      "</td>\n",
      "<td><a href=\"/wiki/Fremont,_California\" title=\"Fremont, California\">Fremont, California</a>\n",
      "</td>\n",
      "<td>United States\n",
      "</td>\n",
      "<td>22,000\n",
      "</td>\n",
      "<td><a href=\"/wiki/Tesla_Model_S\" title=\"Tesla Model S\">Model S</a>, <a href=\"/wiki/Tesla_Model_X\" title=\"Tesla Model X\">Model X</a>, <a href=\"/wiki/Tesla_Model_3\" title=\"Tesla Model 3\">Model 3</a>, <a href=\"/wiki/Tesla_Model_Y\" title=\"Tesla Model Y\">Model Y</a>\n",
      "</td>\n",
      "<td><sup class=\"reference\" id=\"cite_ref-Future_33-1\"><a href=\"#cite_note-Future-33\"><span class=\"cite-bracket\">[</span>32<span class=\"cite-bracket\">]</span></a></sup><sup class=\"reference\" id=\"cite_ref-TC_staff_2020_206-0\"><a href=\"#cite_note-TC_staff_2020-206\"><span class=\"cite-bracket\">[</span>205<span class=\"cite-bracket\">]</span></a></sup><sup class=\"reference\" id=\"cite_ref-207\"><a href=\"#cite_note-207\"><span class=\"cite-bracket\">[</span>206<span class=\"cite-bracket\">]</span></a></sup>\n",
      "</td></tr>, <tr>\n",
      "<td>2016\n",
      "</td>\n",
      "<td><a href=\"/wiki/Gigafactory_Nevada\" title=\"Gigafactory Nevada\">Gigafactory Nevada</a>\n",
      "</td>\n",
      "<td><a href=\"/wiki/Storey_County,_Nevada\" title=\"Storey County, Nevada\">Storey County, Nevada</a>\n",
      "</td>\n",
      "<td>United States\n",
      "</td>\n",
      "<td>7,000\n",
      "</td>\n",
      "<td>Batteries, <a href=\"/wiki/Tesla_Powerwall\" title=\"Tesla Powerwall\">Powerwall</a>, <a href=\"/wiki/Tesla_Semi\" title=\"Tesla Semi\">Semi</a>\n",
      "</td>\n",
      "<td><sup class=\"reference\" id=\"cite_ref-Powerwall_208-0\"><a href=\"#cite_note-Powerwall-208\"><span class=\"cite-bracket\">[</span>207<span class=\"cite-bracket\">]</span></a></sup><sup class=\"reference\" id=\"cite_ref-usatoday_giganevada_2019_209-0\"><a href=\"#cite_note-usatoday_giganevada_2019-209\"><span class=\"cite-bracket\">[</span>208<span class=\"cite-bracket\">]</span></a></sup><sup class=\"reference\" id=\"cite_ref-210\"><a href=\"#cite_note-210\"><span class=\"cite-bracket\">[</span>209<span class=\"cite-bracket\">]</span></a></sup>\n",
      "</td></tr>, <tr>\n",
      "<td>2017\n",
      "</td>\n",
      "<td><a href=\"/wiki/Gigafactory_New_York\" title=\"Gigafactory New York\">Gigafactory New York</a>\n",
      "</td>\n",
      "<td><a href=\"/wiki/Buffalo,_New_York\" title=\"Buffalo, New York\">Buffalo, New York</a>\n",
      "</td>\n",
      "<td>United States\n",
      "</td>\n",
      "<td>1,500\n",
      "</td>\n",
      "<td><a class=\"mw-redirect\" href=\"/wiki/Tesla_Solar_Roof\" title=\"Tesla Solar Roof\">Solar Roof</a>, <a href=\"/wiki/Tesla_Supercharger\" title=\"Tesla Supercharger\">Supercharger</a>\n",
      "</td>\n",
      "<td><sup class=\"reference\" id=\"cite_ref-UpAndRunning_211-0\"><a href=\"#cite_note-UpAndRunning-211\"><span class=\"cite-bracket\">[</span>210<span class=\"cite-bracket\">]</span></a></sup><sup class=\"reference\" id=\"cite_ref-CT_giga2_2020_212-0\"><a href=\"#cite_note-CT_giga2_2020-212\"><span class=\"cite-bracket\">[</span>211<span class=\"cite-bracket\">]</span></a></sup>\n",
      "</td></tr>, <tr>\n",
      "<td>2019\n",
      "</td>\n",
      "<td><a href=\"/wiki/Gigafactory_Shanghai\" title=\"Gigafactory Shanghai\">Gigafactory Shanghai</a>\n",
      "</td>\n",
      "<td><a href=\"/wiki/Shanghai\" title=\"Shanghai\">Shanghai</a>\n",
      "</td>\n",
      "<td>China\n",
      "</td>\n",
      "<td>20,000\n",
      "</td>\n",
      "<td>Model 3, Model Y, Supercharger\n",
      "</td>\n",
      "<td><sup class=\"reference\" id=\"cite_ref-cnbc20191023_213-0\"><a href=\"#cite_note-cnbc20191023-213\"><span class=\"cite-bracket\">[</span>212<span class=\"cite-bracket\">]</span></a></sup><sup class=\"reference\" id=\"cite_ref-214\"><a href=\"#cite_note-214\"><span class=\"cite-bracket\">[</span>213<span class=\"cite-bracket\">]</span></a></sup>\n",
      "</td></tr>, <tr>\n",
      "<td>2022\n",
      "</td>\n",
      "<td><a href=\"/wiki/Gigafactory_Berlin-Brandenburg\" title=\"Gigafactory Berlin-Brandenburg\">Gigafactory Berlin-Brandenburg</a>\n",
      "</td>\n",
      "<td><a href=\"/wiki/Gr%C3%BCnheide_(Mark)\" title=\"Grünheide (Mark)\">Grünheide</a>\n",
      "</td>\n",
      "<td>Germany\n",
      "</td>\n",
      "<td>10,000\n",
      "</td>\n",
      "<td>Model Y\n",
      "</td>\n",
      "<td><sup class=\"reference\" id=\"cite_ref-215\"><a href=\"#cite_note-215\"><span class=\"cite-bracket\">[</span>214<span class=\"cite-bracket\">]</span></a></sup><sup class=\"reference\" id=\"cite_ref-216\"><a href=\"#cite_note-216\"><span class=\"cite-bracket\">[</span>215<span class=\"cite-bracket\">]</span></a></sup><sup class=\"reference\" id=\"cite_ref-IEVS_berlin_2021_217-0\"><a href=\"#cite_note-IEVS_berlin_2021-217\"><span class=\"cite-bracket\">[</span>216<span class=\"cite-bracket\">]</span></a></sup>\n",
      "</td></tr>, <tr>\n",
      "<td>2022\n",
      "</td>\n",
      "<td><a href=\"/wiki/Gigafactory_Texas\" title=\"Gigafactory Texas\">Gigafactory Texas</a>\n",
      "</td>\n",
      "<td><a href=\"/wiki/Austin,_Texas\" title=\"Austin, Texas\">Austin, Texas</a>\n",
      "</td>\n",
      "<td>United States\n",
      "</td>\n",
      "<td>12,000\n",
      "</td>\n",
      "<td>Model Y, <a href=\"/wiki/Tesla_Cybertruck\" title=\"Tesla Cybertruck\">Cybertruck</a>\n",
      "</td>\n",
      "<td><sup class=\"reference\" id=\"cite_ref-218\"><a href=\"#cite_note-218\"><span class=\"cite-bracket\">[</span>217<span class=\"cite-bracket\">]</span></a></sup><sup class=\"reference\" id=\"cite_ref-Vorrath_219-0\"><a href=\"#cite_note-Vorrath-219\"><span class=\"cite-bracket\">[</span>218<span class=\"cite-bracket\">]</span></a></sup><sup class=\"reference\" id=\"cite_ref-220\"><a href=\"#cite_note-220\"><span class=\"cite-bracket\">[</span>219<span class=\"cite-bracket\">]</span></a></sup>\n",
      "</td></tr>]\n"
     ]
    }
   ],
   "source": [
    "# Extract the table data (rows)\n",
    "\n",
    "\n",
    "table_rows = full_table.select('tr')\n",
    "print(table_rows)\n"
   ]
  },
  {
   "cell_type": "code",
   "execution_count": 26,
   "id": "1e41abff-f4e6-49d6-838c-ecb765183b51",
   "metadata": {},
   "outputs": [
    {
     "name": "stdout",
     "output_type": "stream",
     "text": [
      "[['2010\\n', 'Tesla Fremont Factory\\n', 'Fremont, California\\n', 'United States\\n', '22,000\\n', 'Model\\xa0S, Model\\xa0X, Model\\xa03, Model\\xa0Y\\n', '[32][205][206]\\n'], ['2016\\n', 'Gigafactory Nevada\\n', 'Storey County, Nevada\\n', 'United States\\n', '7,000\\n', 'Batteries, Powerwall, Semi\\n', '[207][208][209]\\n'], ['2017\\n', 'Gigafactory New York\\n', 'Buffalo, New York\\n', 'United States\\n', '1,500\\n', 'Solar\\xa0Roof, Supercharger\\n', '[210][211]\\n'], ['2019\\n', 'Gigafactory Shanghai\\n', 'Shanghai\\n', 'China\\n', '20,000\\n', 'Model\\xa03, Model\\xa0Y, Supercharger\\n', '[212][213]\\n'], ['2022\\n', 'Gigafactory Berlin-Brandenburg\\n', 'Grünheide\\n', 'Germany\\n', '10,000\\n', 'Model\\xa0Y\\n', '[214][215][216]\\n'], ['2022\\n', 'Gigafactory Texas\\n', 'Austin, Texas\\n', 'United States\\n', '12,000\\n', 'Model\\xa0Y, Cybertruck\\n', '[217][218][219]\\n']]\n"
     ]
    }
   ],
   "source": [
    "# Extract the table data (rows)\n",
    "\n",
    "# Iteration 2\n",
    "\n",
    "table_rows = full_details.select('tr')\n",
    "\n",
    "table_data = []\n",
    "for index, element in enumerate(table_rows):\n",
    "    if index > 0:\n",
    "        row_list = []\n",
    "        values = element.select('td')\n",
    "        for value in values:\n",
    "            row_list.append(value.text)\n",
    "        table_data.append(row_list)\n",
    "\n",
    "print(table_data)\n"
   ]
  },
  {
   "cell_type": "code",
   "execution_count": 28,
   "id": "051e7cb1-0bbc-41dc-855a-38856e013a98",
   "metadata": {},
   "outputs": [
    {
     "name": "stdout",
     "output_type": "stream",
     "text": [
      "[['2010', 'Tesla Fremont Factory', 'Fremont, California', 'United States', '22,000', 'Model\\xa0S, Model\\xa0X, Model\\xa03, Model\\xa0Y', '[32][205][206]'], ['2016', 'Gigafactory Nevada', 'Storey County, Nevada', 'United States', '7,000', 'Batteries, Powerwall, Semi', '[207][208][209]'], ['2017', 'Gigafactory New York', 'Buffalo, New York', 'United States', '1,500', 'Solar\\xa0Roof, Supercharger', '[210][211]'], ['2019', 'Gigafactory Shanghai', 'Shanghai', 'China', '20,000', 'Model\\xa03, Model\\xa0Y, Supercharger', '[212][213]'], ['2022', 'Gigafactory Berlin-Brandenburg', 'Grünheide', 'Germany', '10,000', 'Model\\xa0Y', '[214][215][216]'], ['2022', 'Gigafactory Texas', 'Austin, Texas', 'United States', '12,000', 'Model\\xa0Y, Cybertruck', '[217][218][219]']]\n"
     ]
    }
   ],
   "source": [
    "# Extract the table data (rows)\n",
    "\n",
    "\n",
    "# Final Iteration\n",
    "\n",
    "table_rows = full_details.select('tr')\n",
    "table_data = []\n",
    "for index, element in enumerate(table_rows):\n",
    "    if index > 0:\n",
    "        row_list = []\n",
    "        values = element.select('td')\n",
    "        for value in values:\n",
    "            row_list.append(value.text.strip())\n",
    "        table_data.append(row_list)\n",
    "\n",
    "print(table_data)\n"
   ]
  },
  {
   "cell_type": "code",
   "execution_count": 30,
   "id": "3facbdba-e098-45fe-9c55-5b90ac90cd26",
   "metadata": {},
   "outputs": [
    {
     "data": {
      "text/html": [
       "<div>\n",
       "<style scoped>\n",
       "    .dataframe tbody tr th:only-of-type {\n",
       "        vertical-align: middle;\n",
       "    }\n",
       "\n",
       "    .dataframe tbody tr th {\n",
       "        vertical-align: top;\n",
       "    }\n",
       "\n",
       "    .dataframe thead th {\n",
       "        text-align: right;\n",
       "    }\n",
       "</style>\n",
       "<table border=\"1\" class=\"dataframe\">\n",
       "  <thead>\n",
       "    <tr style=\"text-align: right;\">\n",
       "      <th></th>\n",
       "      <th>Opened</th>\n",
       "      <th>Name</th>\n",
       "      <th>City</th>\n",
       "      <th>Country</th>\n",
       "      <th>Employees</th>\n",
       "      <th>Products</th>\n",
       "      <th>Ref.</th>\n",
       "    </tr>\n",
       "  </thead>\n",
       "  <tbody>\n",
       "    <tr>\n",
       "      <th>0</th>\n",
       "      <td>2010</td>\n",
       "      <td>Tesla Fremont Factory</td>\n",
       "      <td>Fremont, California</td>\n",
       "      <td>United States</td>\n",
       "      <td>22,000</td>\n",
       "      <td>Model S, Model X, Model 3, Model Y</td>\n",
       "      <td>[32][205][206]</td>\n",
       "    </tr>\n",
       "    <tr>\n",
       "      <th>1</th>\n",
       "      <td>2016</td>\n",
       "      <td>Gigafactory Nevada</td>\n",
       "      <td>Storey County, Nevada</td>\n",
       "      <td>United States</td>\n",
       "      <td>7,000</td>\n",
       "      <td>Batteries, Powerwall, Semi</td>\n",
       "      <td>[207][208][209]</td>\n",
       "    </tr>\n",
       "    <tr>\n",
       "      <th>2</th>\n",
       "      <td>2017</td>\n",
       "      <td>Gigafactory New York</td>\n",
       "      <td>Buffalo, New York</td>\n",
       "      <td>United States</td>\n",
       "      <td>1,500</td>\n",
       "      <td>Solar Roof, Supercharger</td>\n",
       "      <td>[210][211]</td>\n",
       "    </tr>\n",
       "    <tr>\n",
       "      <th>3</th>\n",
       "      <td>2019</td>\n",
       "      <td>Gigafactory Shanghai</td>\n",
       "      <td>Shanghai</td>\n",
       "      <td>China</td>\n",
       "      <td>20,000</td>\n",
       "      <td>Model 3, Model Y, Supercharger</td>\n",
       "      <td>[212][213]</td>\n",
       "    </tr>\n",
       "    <tr>\n",
       "      <th>4</th>\n",
       "      <td>2022</td>\n",
       "      <td>Gigafactory Berlin-Brandenburg</td>\n",
       "      <td>Grünheide</td>\n",
       "      <td>Germany</td>\n",
       "      <td>10,000</td>\n",
       "      <td>Model Y</td>\n",
       "      <td>[214][215][216]</td>\n",
       "    </tr>\n",
       "    <tr>\n",
       "      <th>5</th>\n",
       "      <td>2022</td>\n",
       "      <td>Gigafactory Texas</td>\n",
       "      <td>Austin, Texas</td>\n",
       "      <td>United States</td>\n",
       "      <td>12,000</td>\n",
       "      <td>Model Y, Cybertruck</td>\n",
       "      <td>[217][218][219]</td>\n",
       "    </tr>\n",
       "  </tbody>\n",
       "</table>\n",
       "</div>"
      ],
      "text/plain": [
       "  Opened                            Name                   City  \\\n",
       "0   2010           Tesla Fremont Factory    Fremont, California   \n",
       "1   2016              Gigafactory Nevada  Storey County, Nevada   \n",
       "2   2017            Gigafactory New York      Buffalo, New York   \n",
       "3   2019            Gigafactory Shanghai               Shanghai   \n",
       "4   2022  Gigafactory Berlin-Brandenburg              Grünheide   \n",
       "5   2022               Gigafactory Texas          Austin, Texas   \n",
       "\n",
       "         Country Employees                            Products  \\\n",
       "0  United States    22,000  Model S, Model X, Model 3, Model Y   \n",
       "1  United States     7,000          Batteries, Powerwall, Semi   \n",
       "2  United States     1,500            Solar Roof, Supercharger   \n",
       "3          China    20,000      Model 3, Model Y, Supercharger   \n",
       "4        Germany    10,000                             Model Y   \n",
       "5  United States    12,000                 Model Y, Cybertruck   \n",
       "\n",
       "              Ref.  \n",
       "0   [32][205][206]  \n",
       "1  [207][208][209]  \n",
       "2       [210][211]  \n",
       "3       [212][213]  \n",
       "4  [214][215][216]  \n",
       "5  [217][218][219]  "
      ]
     },
     "execution_count": 30,
     "metadata": {},
     "output_type": "execute_result"
    }
   ],
   "source": [
    "# Create a Pandas DataFrame\n",
    "\n",
    "df = pd.DataFrame(table_data, columns=table_columns) \n",
    "df"
   ]
  },
  {
   "cell_type": "code",
   "execution_count": null,
   "id": "a246fc06-bb41-4e8a-8755-a39f041e36bb",
   "metadata": {},
   "outputs": [],
   "source": []
  }
 ],
 "metadata": {
  "kernelspec": {
   "display_name": "Python 3 (ipykernel)",
   "language": "python",
   "name": "python3"
  },
  "language_info": {
   "codemirror_mode": {
    "name": "ipython",
    "version": 3
   },
   "file_extension": ".py",
   "mimetype": "text/x-python",
   "name": "python",
   "nbconvert_exporter": "python",
   "pygments_lexer": "ipython3",
   "version": "3.12.3"
  }
 },
 "nbformat": 4,
 "nbformat_minor": 5
}
